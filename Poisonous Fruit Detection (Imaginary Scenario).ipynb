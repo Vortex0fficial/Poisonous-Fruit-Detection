{
 "cells": [
  {
   "cell_type": "code",
   "execution_count": 55,
   "id": "452baa6e",
   "metadata": {
    "scrolled": false
   },
   "outputs": [],
   "source": [
    "# Imports\n",
    "\n",
    "import pandas as pd\n",
    "import tensorflow as tf\n",
    "from tensorflow.keras.models import Sequential\n",
    "from tensorflow.keras.layers import Dense, Activation, Flatten\n",
    "from tensorflow.keras.callbacks import TensorBoard\n",
    "import numpy as np\n",
    "import time\n",
    "import random\n"
   ]
  },
  {
   "cell_type": "code",
   "execution_count": 56,
   "id": "9fa46021",
   "metadata": {
    "scrolled": true
   },
   "outputs": [],
   "source": [
    "# Creating the Training Data\n",
    "\n",
    "df = pd.read_csv('Datasets/Poisonous_Fruit/FruitData.csv')\n",
    "\n",
    "X = df.drop(columns=[' Poisonous'])\n",
    "y = df[' Poisonous']\n",
    "\n",
    "y = np.where(y == 'Y', 1, 0)\n",
    "\n",
    "X = np.array(X)\n",
    "y = np.array(y)\n"
   ]
  },
  {
   "cell_type": "code",
   "execution_count": 77,
   "id": "b7e31d78",
   "metadata": {},
   "outputs": [],
   "source": [
    "# TensorBoard\n",
    "\n",
    "NAME = f'Poisonous_Fruit_Detection{int(time.time())}'\n",
    "tensorboard = TensorBoard(log_dir=f'logs/{NAME}')\n",
    "\n",
    "# Creating the Model + its Layers\n",
    "\n",
    "model = Sequential()\n",
    "\n",
    "# Layers\n",
    "\n",
    "model.add(Dense(10, activation='relu', input_shape=(2,)))\n",
    "\n",
    "model.add(Dense(10, activation='relu'))\n",
    "\n",
    "model.add(Dense(1, activation='sigmoid'))\n",
    "\n",
    "# Compiling the Model\n",
    "\n",
    "\n",
    "model.compile(loss='binary_crossentropy',\n",
    "             optimizer='adam',\n",
    "             metrics=['accuracy'])\n"
   ]
  },
  {
   "cell_type": "code",
   "execution_count": 70,
   "id": "1fff260b",
   "metadata": {
    "scrolled": false
   },
   "outputs": [
    {
     "name": "stdout",
     "output_type": "stream",
     "text": [
      "Epoch 1/20\n",
      "\u001b[1m135/135\u001b[0m \u001b[32m━━━━━━━━━━━━━━━━━━━━\u001b[0m\u001b[37m\u001b[0m \u001b[1m0s\u001b[0m 1ms/step - accuracy: 0.9977 - loss: 0.0983 - val_accuracy: 0.9333 - val_loss: 0.2101\n",
      "Epoch 2/20\n",
      "\u001b[1m135/135\u001b[0m \u001b[32m━━━━━━━━━━━━━━━━━━━━\u001b[0m\u001b[37m\u001b[0m \u001b[1m0s\u001b[0m 983us/step - accuracy: 0.9901 - loss: 0.0891 - val_accuracy: 0.9333 - val_loss: 0.2122\n",
      "Epoch 3/20\n",
      "\u001b[1m135/135\u001b[0m \u001b[32m━━━━━━━━━━━━━━━━━━━━\u001b[0m\u001b[37m\u001b[0m \u001b[1m0s\u001b[0m 997us/step - accuracy: 0.9824 - loss: 0.0973 - val_accuracy: 1.0000 - val_loss: 0.2097\n",
      "Epoch 4/20\n",
      "\u001b[1m135/135\u001b[0m \u001b[32m━━━━━━━━━━━━━━━━━━━━\u001b[0m\u001b[37m\u001b[0m \u001b[1m0s\u001b[0m 982us/step - accuracy: 0.9880 - loss: 0.1054 - val_accuracy: 0.9333 - val_loss: 0.2305\n",
      "Epoch 5/20\n",
      "\u001b[1m135/135\u001b[0m \u001b[32m━━━━━━━━━━━━━━━━━━━━\u001b[0m\u001b[37m\u001b[0m \u001b[1m0s\u001b[0m 929us/step - accuracy: 0.9849 - loss: 0.0959 - val_accuracy: 0.9333 - val_loss: 0.2053\n",
      "Epoch 6/20\n",
      "\u001b[1m135/135\u001b[0m \u001b[32m━━━━━━━━━━━━━━━━━━━━\u001b[0m\u001b[37m\u001b[0m \u001b[1m0s\u001b[0m 964us/step - accuracy: 0.9682 - loss: 0.1067 - val_accuracy: 0.9333 - val_loss: 0.2220\n",
      "Epoch 7/20\n",
      "\u001b[1m135/135\u001b[0m \u001b[32m━━━━━━━━━━━━━━━━━━━━\u001b[0m\u001b[37m\u001b[0m \u001b[1m0s\u001b[0m 1ms/step - accuracy: 0.9794 - loss: 0.0959 - val_accuracy: 0.9333 - val_loss: 0.2060\n",
      "Epoch 8/20\n",
      "\u001b[1m135/135\u001b[0m \u001b[32m━━━━━━━━━━━━━━━━━━━━\u001b[0m\u001b[37m\u001b[0m \u001b[1m0s\u001b[0m 1ms/step - accuracy: 0.9641 - loss: 0.0945 - val_accuracy: 0.9333 - val_loss: 0.1943\n",
      "Epoch 9/20\n",
      "\u001b[1m135/135\u001b[0m \u001b[32m━━━━━━━━━━━━━━━━━━━━\u001b[0m\u001b[37m\u001b[0m \u001b[1m0s\u001b[0m 1ms/step - accuracy: 0.9755 - loss: 0.0793 - val_accuracy: 0.9333 - val_loss: 0.2317\n",
      "Epoch 10/20\n",
      "\u001b[1m135/135\u001b[0m \u001b[32m━━━━━━━━━━━━━━━━━━━━\u001b[0m\u001b[37m\u001b[0m \u001b[1m0s\u001b[0m 974us/step - accuracy: 0.9632 - loss: 0.1170 - val_accuracy: 0.9333 - val_loss: 0.1970\n",
      "Epoch 11/20\n",
      "\u001b[1m135/135\u001b[0m \u001b[32m━━━━━━━━━━━━━━━━━━━━\u001b[0m\u001b[37m\u001b[0m \u001b[1m0s\u001b[0m 945us/step - accuracy: 0.9744 - loss: 0.0918 - val_accuracy: 0.9333 - val_loss: 0.2195\n",
      "Epoch 12/20\n",
      "\u001b[1m135/135\u001b[0m \u001b[32m━━━━━━━━━━━━━━━━━━━━\u001b[0m\u001b[37m\u001b[0m \u001b[1m0s\u001b[0m 972us/step - accuracy: 0.9824 - loss: 0.0737 - val_accuracy: 0.9333 - val_loss: 0.2338\n",
      "Epoch 13/20\n",
      "\u001b[1m135/135\u001b[0m \u001b[32m━━━━━━━━━━━━━━━━━━━━\u001b[0m\u001b[37m\u001b[0m \u001b[1m0s\u001b[0m 932us/step - accuracy: 0.9974 - loss: 0.0745 - val_accuracy: 0.9333 - val_loss: 0.1964\n",
      "Epoch 14/20\n",
      "\u001b[1m135/135\u001b[0m \u001b[32m━━━━━━━━━━━━━━━━━━━━\u001b[0m\u001b[37m\u001b[0m \u001b[1m0s\u001b[0m 953us/step - accuracy: 0.9892 - loss: 0.0882 - val_accuracy: 1.0000 - val_loss: 0.1809\n",
      "Epoch 15/20\n",
      "\u001b[1m135/135\u001b[0m \u001b[32m━━━━━━━━━━━━━━━━━━━━\u001b[0m\u001b[37m\u001b[0m \u001b[1m0s\u001b[0m 982us/step - accuracy: 0.9438 - loss: 0.1103 - val_accuracy: 0.9333 - val_loss: 0.1911\n",
      "Epoch 16/20\n",
      "\u001b[1m135/135\u001b[0m \u001b[32m━━━━━━━━━━━━━━━━━━━━\u001b[0m\u001b[37m\u001b[0m \u001b[1m0s\u001b[0m 1ms/step - accuracy: 0.9905 - loss: 0.0741 - val_accuracy: 0.9333 - val_loss: 0.2318\n",
      "Epoch 17/20\n",
      "\u001b[1m135/135\u001b[0m \u001b[32m━━━━━━━━━━━━━━━━━━━━\u001b[0m\u001b[37m\u001b[0m \u001b[1m0s\u001b[0m 1ms/step - accuracy: 0.9990 - loss: 0.0636 - val_accuracy: 1.0000 - val_loss: 0.1746\n",
      "Epoch 18/20\n",
      "\u001b[1m135/135\u001b[0m \u001b[32m━━━━━━━━━━━━━━━━━━━━\u001b[0m\u001b[37m\u001b[0m \u001b[1m0s\u001b[0m 1ms/step - accuracy: 0.9578 - loss: 0.0887 - val_accuracy: 0.9333 - val_loss: 0.1781\n",
      "Epoch 19/20\n",
      "\u001b[1m135/135\u001b[0m \u001b[32m━━━━━━━━━━━━━━━━━━━━\u001b[0m\u001b[37m\u001b[0m \u001b[1m0s\u001b[0m 934us/step - accuracy: 0.9846 - loss: 0.0631 - val_accuracy: 0.9333 - val_loss: 0.1791\n",
      "Epoch 20/20\n",
      "\u001b[1m135/135\u001b[0m \u001b[32m━━━━━━━━━━━━━━━━━━━━\u001b[0m\u001b[37m\u001b[0m \u001b[1m0s\u001b[0m 972us/step - accuracy: 0.9720 - loss: 0.0743 - val_accuracy: 1.0000 - val_loss: 0.1845\n"
     ]
    },
    {
     "data": {
      "text/plain": [
       "<keras.src.callbacks.history.History at 0x23629d637d0>"
      ]
     },
     "execution_count": 70,
     "metadata": {},
     "output_type": "execute_result"
    }
   ],
   "source": [
    "# Fitting the Model\n",
    "\n",
    "model.fit(X, y, batch_size=1, epochs=20, validation_split=0.1, callbacks=[tensorboard])\n"
   ]
  },
  {
   "cell_type": "code",
   "execution_count": 72,
   "id": "8c24bf52",
   "metadata": {},
   "outputs": [],
   "source": [
    "# Save the Model\n",
    "model.save(\"Poisonous_Fruit_Detector.keras\")"
   ]
  }
 ],
 "metadata": {
  "kernelspec": {
   "display_name": "Python 3 (ipykernel)",
   "language": "python",
   "name": "python3"
  },
  "language_info": {
   "codemirror_mode": {
    "name": "ipython",
    "version": 3
   },
   "file_extension": ".py",
   "mimetype": "text/x-python",
   "name": "python",
   "nbconvert_exporter": "python",
   "pygments_lexer": "ipython3",
   "version": "3.11.5"
  }
 },
 "nbformat": 4,
 "nbformat_minor": 5
}
